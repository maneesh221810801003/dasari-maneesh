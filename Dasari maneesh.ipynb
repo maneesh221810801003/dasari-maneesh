{
 "cells": [
  {
   "cell_type": "code",
   "execution_count": 3,
   "metadata": {},
   "outputs": [
    {
     "ename": "SyntaxError",
     "evalue": "invalid syntax (<ipython-input-3-9d03cd1cc910>, line 2)",
     "output_type": "error",
     "traceback": [
      "\u001b[1;36m  File \u001b[1;32m\"<ipython-input-3-9d03cd1cc910>\"\u001b[1;36m, line \u001b[1;32m2\u001b[0m\n\u001b[1;33m    r count from 1 to N\u001b[0m\n\u001b[1;37m          ^\u001b[0m\n\u001b[1;31mSyntaxError\u001b[0m\u001b[1;31m:\u001b[0m invalid syntax\n"
     ]
    }
   ],
   "source": [
    "# function to find prime numbe\n",
    "r count from 1 to N\n",
    "# 10 -- 4(2,3,5,7)\n",
    "def primecount(n):\n",
    "    cnt = 0\n",
    "    for a in range(2,n+1):\n",
    "        k = 0\n",
    "        for i in range(2,a//2+1):\n",
    "            if a % i == 0:\n",
    "                k = k + 1\n",
    "            if(k<=0):\n",
    "                cnt = cnt + 1\n",
    "            return cnt\n",
    "primecount(10)"
   ]
  },
  {
   "cell_type": "code",
   "execution_count": 6,
   "metadata": {},
   "outputs": [
    {
     "name": "stdout",
     "output_type": "stream",
     "text": [
      "no\n",
      "no\n"
     ]
    }
   ],
   "source": [
    "# individual digit factorial sum is same as orginal number\n",
    "#example :-\n",
    "# 145 -- yes (5! + 4! + 1! + 145)\n",
    "# 123 -- no (3! + 2! + 1! = 9)\n",
    "def factorial(n):\n",
    "    fact = 1\n",
    "    for i in range (2,n+1):\n",
    "        fact *= i\n",
    "        return fact\n",
    "def digitfactsum(n):\n",
    "    sum = 0\n",
    "    buffer = n\n",
    "    while n != 0 :\n",
    "        r = n % 10\n",
    "        sum += factorial(r)\n",
    "        n = n//10\n",
    "        if sum == buffer:\n",
    "            return \"yes\"\n",
    "        else:\n",
    "            return\"no\"\n",
    "        return\n",
    "print(digitfactsum(145))\n",
    "print(digitfactsum(123))\n",
    "    \n"
   ]
  },
  {
   "cell_type": "code",
   "execution_count": 11,
   "metadata": {},
   "outputs": [
    {
     "data": {
      "text/plain": [
       "0"
      ]
     },
     "execution_count": 11,
     "metadata": {},
     "output_type": "execute_result"
    }
   ],
   "source": [
    "# function to return the count of palindrome number\n",
    "# Input : 1 10\n",
    "# output: 9 (2,2,3,4,5,6,7,8,9)\n",
    "\n",
    "#input : 11 100\n",
    "# output : 9(11,22,33,....,99)\n",
    "def ispalindrome(n):\n",
    "    rev = 0\n",
    "    buffer = n\n",
    "    while n!= 0:\n",
    "        r = n % 10\n",
    "        rev = rev * 10 + r\n",
    "        n = n // 10\n",
    "    if rev == buffer:\n",
    "        return \"yes\"\n",
    "    else:\n",
    "        return \"no\"\n",
    "def countpalindrome(lb,ub):\n",
    "    cnt = 0\n",
    "    while lb != ub:\n",
    "        #Implement\n",
    "        if ispalindrome(lb) == True:\n",
    "            cnt = cnt + 1\n",
    "        lb = lb + 1\n",
    "    return cnt \n",
    "countpalindrome(1,10)\n",
    "        "
   ]
  },
  {
   "cell_type": "markdown",
   "metadata": {},
   "source": [
    "# function to generate the perfect numbers in a given range \n",
    "# perfect numberm : sum of all its factors same as orginal number\n",
    "# example : 6 -- 1 2 3 (1 + 2 + 3)\n",
    "#input : 1 10\n",
    "# output : 6\n",
    "def factorslist(n):\n",
    "    sum = 0\n",
    "    for i in range(1,n//2+1):\n",
    "        if n % i == 0:\n",
    "            sum = sum + 1\n",
    "    return sum\n",
    "def isperfect(n):\n",
    "    if factorslist(n) == n:\n",
    "        return True\n",
    "    return False\n",
    "def generateperfect(lb,ub):\n",
    "    for x in range (lb,ub+1):\n",
    "        if  isperfect(x):\n",
    "            print(x,end = \" \")\n",
    "    print()\n",
    "    return\n",
    "generateperfect(1,10)\n",
    "generateperfect(1,10000)\n"
   ]
  },
  {
   "cell_type": "code",
   "execution_count": 2,
   "metadata": {},
   "outputs": [
    {
     "ename": "SyntaxError",
     "evalue": "invalid syntax (<ipython-input-2-370bccbb0fef>, line 2)",
     "output_type": "error",
     "traceback": [
      "\u001b[1;36m  File \u001b[1;32m\"<ipython-input-2-370bccbb0fef>\"\u001b[1;36m, line \u001b[1;32m2\u001b[0m\n\u001b[1;33m    *\u001b[0m\n\u001b[1;37m      ^\u001b[0m\n\u001b[1;31mSyntaxError\u001b[0m\u001b[1;31m:\u001b[0m invalid syntax\n"
     ]
    }
   ],
   "source": [
    "# programming in python \n",
    "* string\n",
    "*\n"
   ]
  },
  {
   "cell_type": "code",
   "execution_count": 3,
   "metadata": {},
   "outputs": [
    {
     "name": "stdout",
     "output_type": "stream",
     "text": [
      "python\n",
      "<class 'str'>\n"
     ]
    }
   ],
   "source": [
    "s1 = \"python\"\n",
    "print(s1)\n",
    "print(type(s1))"
   ]
  },
  {
   "cell_type": "code",
   "execution_count": 9,
   "metadata": {},
   "outputs": [
    {
     "name": "stdout",
     "output_type": "stream",
     "text": [
      "p\n",
      "t\n",
      "n\n"
     ]
    }
   ],
   "source": [
    "s1 = 'python'\n",
    "print(s1[0]) # acess the first character\n",
    "print(s1[2]) # acess the second character\n",
    "print(s1[len(s1)-1]) # acess the last character"
   ]
  },
  {
   "cell_type": "code",
   "execution_count": 10,
   "metadata": {},
   "outputs": [],
   "source": [
    "# Function to print \"samecount\" if the count of\n",
    "# Upper and Lower case is same \n",
    "# print \"programming\" if not same \n",
    "# Example : pyThOn -- 3 P T O (Upper case) -- samecount\n",
    "#                     3 y h n (lowe case)\n",
    "# pytHon -- P H  (2)\n",
    "#        -- y t o n  - programming \n",
    "def findcount(str):\n",
    "    cntUpper = 0\n",
    "    cntLower = 0\n",
    "    for x in range(len(str)):\n",
    "        if ord(str[x]) >= 65 and ord(str[x]) <= 90:\n",
    "             cntUpper = cntlower + 1\n",
    "        elif (str[x]) >= 65 and "
   ]
  },
  {
   "cell_type": "code",
   "execution_count": 12,
   "metadata": {},
   "outputs": [
    {
     "name": "stdout",
     "output_type": "stream",
     "text": [
      "8 8 9 "
     ]
    }
   ],
   "source": [
    "# extract digits force form given string\n",
    "# Example :\n",
    "# Input : Apllicat8ion89\n",
    "# output : 1 8 8 9\n",
    "def extractdigits(str):\n",
    "    for x in range(len(str)):\n",
    "        if ord(str[x]) >= 48 and ord(str[x]) <= 57:\n",
    "            print(str[x],end=\" \")\n",
    "    return\n",
    "extractdigits(\"Applicat8ion89\") # 1 8 8 9"
   ]
  },
  {
   "cell_type": "raw",
   "metadata": {},
   "source": []
  },
  {
   "cell_type": "code",
   "execution_count": 14,
   "metadata": {
    "scrolled": true
   },
   "outputs": [
    {
     "ename": "UnboundLocalError",
     "evalue": "local variable 'sum' referenced before assignment",
     "output_type": "error",
     "traceback": [
      "\u001b[1;31m---------------------------------------------------------------------------\u001b[0m",
      "\u001b[1;31mUnboundLocalError\u001b[0m                         Traceback (most recent call last)",
      "\u001b[1;32m<ipython-input-14-9e591cd1fd79>\u001b[0m in \u001b[0;36m<module>\u001b[1;34m\u001b[0m\n\u001b[0;32m     12\u001b[0m \u001b[1;33m\u001b[0m\u001b[0m\n\u001b[0;32m     13\u001b[0m     \u001b[1;32mreturn\u001b[0m \u001b[0msum\u001b[0m\u001b[1;33m\u001b[0m\u001b[1;33m\u001b[0m\u001b[0m\n\u001b[1;32m---> 14\u001b[1;33m \u001b[0msumofdigits\u001b[0m\u001b[1;33m(\u001b[0m\u001b[1;34m'Appli1cat8ion89'\u001b[0m\u001b[1;33m)\u001b[0m\u001b[1;33m\u001b[0m\u001b[1;33m\u001b[0m\u001b[0m\n\u001b[0m",
      "\u001b[1;32m<ipython-input-14-9e591cd1fd79>\u001b[0m in \u001b[0;36msumofdigits\u001b[1;34m(str)\u001b[0m\n\u001b[0;32m      9\u001b[0m     \u001b[1;32mfor\u001b[0m \u001b[0mx\u001b[0m \u001b[1;32min\u001b[0m \u001b[0mrange\u001b[0m\u001b[1;33m(\u001b[0m\u001b[0mlen\u001b[0m\u001b[1;33m(\u001b[0m\u001b[0mstr\u001b[0m\u001b[1;33m)\u001b[0m\u001b[1;33m)\u001b[0m\u001b[1;33m:\u001b[0m\u001b[1;33m\u001b[0m\u001b[1;33m\u001b[0m\u001b[0m\n\u001b[0;32m     10\u001b[0m         \u001b[1;32mif\u001b[0m \u001b[0mord\u001b[0m\u001b[1;33m(\u001b[0m\u001b[0mstr\u001b[0m\u001b[1;33m[\u001b[0m\u001b[0mx\u001b[0m\u001b[1;33m]\u001b[0m\u001b[1;33m)\u001b[0m \u001b[1;33m>=\u001b[0m \u001b[1;36m48\u001b[0m \u001b[1;32mand\u001b[0m \u001b[0mord\u001b[0m\u001b[1;33m(\u001b[0m\u001b[0mstr\u001b[0m\u001b[1;33m[\u001b[0m\u001b[0mx\u001b[0m\u001b[1;33m]\u001b[0m\u001b[1;33m)\u001b[0m \u001b[1;33m<=\u001b[0m \u001b[1;36m57\u001b[0m\u001b[1;33m:\u001b[0m\u001b[1;33m\u001b[0m\u001b[1;33m\u001b[0m\u001b[0m\n\u001b[1;32m---> 11\u001b[1;33m             \u001b[0msum\u001b[0m \u001b[1;33m=\u001b[0m \u001b[0msum\u001b[0m \u001b[1;33m+\u001b[0m \u001b[1;33m(\u001b[0m\u001b[0mord\u001b[0m\u001b[1;33m(\u001b[0m\u001b[0mstr\u001b[0m\u001b[1;33m[\u001b[0m\u001b[0mx\u001b[0m\u001b[1;33m]\u001b[0m\u001b[1;33m)\u001b[0m\u001b[1;33m-\u001b[0m\u001b[1;36m48\u001b[0m\u001b[1;33m)\u001b[0m\u001b[1;33m\u001b[0m\u001b[1;33m\u001b[0m\u001b[0m\n\u001b[0m\u001b[0;32m     12\u001b[0m \u001b[1;33m\u001b[0m\u001b[0m\n\u001b[0;32m     13\u001b[0m     \u001b[1;32mreturn\u001b[0m \u001b[0msum\u001b[0m\u001b[1;33m\u001b[0m\u001b[1;33m\u001b[0m\u001b[0m\n",
      "\u001b[1;31mUnboundLocalError\u001b[0m: local variable 'sum' referenced before assignment"
     ]
    }
   ],
   "source": [
    "# function to return the sum of digits in a given string\n",
    "# Example :\n",
    "# Input : appli1cat8ion89\n",
    "# Input : Appli1cat8ion89\n",
    "# output : 26(1+8+8+9\n",
    "# 0 1 2 3 4 5 ... 9\n",
    "# 48 19 50 51 52 53 ... 57\n",
    "def sumofdigits(str):\n",
    "    \n",
    "    for x in range(len(str)):\n",
    "        if ord(str[x]) >= 48 and ord(str[x]) <= 57:\n",
    "            sum = sum + (ord(str[x])-48)\n",
    "        \n",
    "    return sum\n",
    "sumofdigits('Appli1cat8ion89')\n"
   ]
  },
  {
   "cell_type": "code",
   "execution_count": 19,
   "metadata": {},
   "outputs": [
    {
     "data": {
      "text/plain": [
       "16"
      ]
     },
     "execution_count": 19,
     "metadata": {},
     "output_type": "execute_result"
    }
   ],
   "source": [
    "# function to return the sum of digits in a given dtring \n",
    "# Example:\n",
    "# input : applicat8ion89\n",
    "# output: 16(8+8)\n",
    "def sumofEvenDigits(str):\n",
    "    sum = 0\n",
    "    for x in range(len(str)):\n",
    "        if ord(str[x]) >= 48 and ord(str[x]) <= 57:\n",
    "            if(ord(str[x])-48) % 2 == 0:\n",
    "                sum = sum + (ord(str[x])-48)\n",
    "    return sum \n",
    "sumofEvenDigits('applicat8ion89')"
   ]
  },
  {
   "cell_type": "code",
   "execution_count": 36,
   "metadata": {},
   "outputs": [
    {
     "ename": "SyntaxError",
     "evalue": "invalid syntax (<ipython-input-36-596b7d00bef9>, line 17)",
     "output_type": "error",
     "traceback": [
      "\u001b[1;36m  File \u001b[1;32m\"<ipython-input-36-596b7d00bef9>\"\u001b[1;36m, line \u001b[1;32m17\u001b[0m\n\u001b[1;33m    if spacecnt == 2:\u001b[0m\n\u001b[1;37m                    ^\u001b[0m\n\u001b[1;31mSyntaxError\u001b[0m\u001b[1;31m:\u001b[0m invalid syntax\n"
     ]
    }
   ],
   "source": [
    "# function to print the specific word in upper case\n",
    "# Example:\n",
    "# Input : python made Easy\n",
    "# output : MADE\n",
    "# Input : Learn python programming\n",
    "# output : PYTHON\n",
    "def worduppercase(s):\n",
    "    spacecnt = 0\n",
    "    for x in range(len(s)):\n",
    "        if s[x] == 32:\n",
    "            spacecnt += 1 # spacecnt = spacecnt+1\n",
    "        if spacecnt == 1:\n",
    "            if ord(s[x]) >= 65 and s[x] <= 90:\n",
    "                print(s[x],end=\"\")\n",
    "            elif ord(s[x]) >= 97 and ords(s[x]) <= 122:\n",
    "                print(chr(ord(s[x])-32,end=\"\")\n",
    "        if spacecnt == 2:\n",
    "            break\n",
    "    return\n",
    "\n",
    "worduppercase('python Made Easy') # Made"
   ]
  },
  {
   "cell_type": "code",
   "execution_count": null,
   "metadata": {},
   "outputs": [],
   "source": []
  },
  {
   "cell_type": "code",
   "execution_count": null,
   "metadata": {},
   "outputs": [],
   "source": []
  }
 ],
 "metadata": {
  "kernelspec": {
   "display_name": "Python 3",
   "language": "python",
   "name": "python3"
  },
  "language_info": {
   "codemirror_mode": {
    "name": "ipython",
    "version": 3
   },
   "file_extension": ".py",
   "mimetype": "text/x-python",
   "name": "python",
   "nbconvert_exporter": "python",
   "pygments_lexer": "ipython3",
   "version": "3.7.3"
  }
 },
 "nbformat": 4,
 "nbformat_minor": 2
}
