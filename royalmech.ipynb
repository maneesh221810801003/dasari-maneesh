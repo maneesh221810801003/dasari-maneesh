{
 "cells": [
  {
   "cell_type": "code",
   "execution_count": 1,
   "metadata": {},
   "outputs": [
    {
     "name": "stdout",
     "output_type": "stream",
     "text": [
      "True\n",
      "False\n"
     ]
    }
   ],
   "source": [
    "# Fuction to test two digit number matching\n",
    "import re\n",
    "def twoDigitMatching(n):\n",
    "   pattern = '^[0-9]{2}$'\n",
    "   n = str(n)\n",
    "   if re.match(pattern,n):\n",
    "       return True\n",
    "   return False\n",
    "print(twoDigitMatching(12)) # True\n",
    "print(twoDigitMatching(123)) # False\n"
   ]
  },
  {
   "cell_type": "code",
   "execution_count": 2,
   "metadata": {
    "collapsed": true
   },
   "outputs": [
    {
     "name": "stdout",
     "output_type": "stream",
     "text": [
      "True\n",
      "False\n"
     ]
    }
   ],
   "source": [
    "# Function to define test username having 8 charcters\n",
    "# Upper case and lower\n",
    "def testusername(s):\n",
    "   pattern = '^[a-zA-Z]{8}'\n",
    "   if re.match(pattern,s):\n",
    "       return True\n",
    "   return False\n",
    "print(testusername('GitamHyd'))\n",
    "print(testusername('Gitam188'))"
   ]
  },
  {
   "cell_type": "markdown",
   "metadata": {},
   "source": [
    "### Regular Expression to match the Indian mobile\n",
    "\n",
    "- 10 Digits\n",
    "- (First digit will be [6-9] and remainig 9 digits will be [0-9]\n",
    "-Examole - 6300032707\n",
    "- Re - ^[6-9][0-9]{9}$\n",
    "- Example-8179618718\n"
   ]
  },
  {
   "cell_type": "code",
   "execution_count": 6,
   "metadata": {},
   "outputs": [
    {
     "data": {
      "text/plain": [
       "True"
      ]
     },
     "execution_count": 6,
     "metadata": {},
     "output_type": "execute_result"
    }
   ],
   "source": [
    "# Function to validate the Indian Mobile number\n",
    "def phonenumbervalidate(phone):\n",
    "    pattern = '^[6-9][0-9]{9}$^[0][6-9][0-9]{9}$|^[+][9][1][6-9][0-9]{9}$'\n",
    "    phone = str(phone)\n",
    "    if re.match(pattern,phone):\n",
    "        return True\n",
    "    return False\n",
    "phonenumbervalidate('+916300032707')"
   ]
  },
  {
   "cell_type": "markdown",
   "metadata": {},
   "source": [
    "- Regular Expression to validate the rollnumber\n",
    "     - Example : 1521A0501\n",
    "     - Example : 1521A0109\n",
    "     - Example : 1521A0499\n",
    "* Regular Expression to validate the password\n",
    "   - parameters : len min of 6 characters and max of 15 characters and max of 15 characters\n",
    "   * parameters : Len min of 6 characters and max of 15 characters\n",
    "   * Aceept Lower case ,uooer "
   ]
  },
  {
   "cell_type": "markdown",
   "metadata": {},
   "source": [
    "# Email id validation using regular Expression\n",
    "* Example:-Username@DomainName.extension"
   ]
  },
  {
   "cell_type": "code",
   "execution_count": null,
   "metadata": {},
   "outputs": [],
   "source": [
    "def emailidvalidation(email):\n",
    "    pattern = '^[0-9]'"
   ]
  }
 ],
 "metadata": {
  "kernelspec": {
   "display_name": "Python 3",
   "language": "python",
   "name": "python3"
  },
  "language_info": {
   "codemirror_mode": {
    "name": "ipython",
    "version": 3
   },
   "file_extension": ".py",
   "mimetype": "text/x-python",
   "name": "python",
   "nbconvert_exporter": "python",
   "pygments_lexer": "ipython3",
   "version": "3.7.3"
  }
 },
 "nbformat": 4,
 "nbformat_minor": 2
}
