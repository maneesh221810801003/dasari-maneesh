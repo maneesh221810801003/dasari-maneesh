{
 "cells": [
  {
   "cell_type": "markdown",
   "metadata": {},
   "source": [
    "# String Functions\n",
    "* Classic version\n",
    "* current version\n"
   ]
  },
  {
   "cell_type": "markdown",
   "metadata": {},
   "source": [
    "# Standard Libraries\n",
    "* File I/O\n",
    "* Regular Expression\n",
    "* Datetime\n",
    "* Math (numerical and Mathematical)"
   ]
  },
  {
   "cell_type": "markdown",
   "metadata": {},
   "source": [
    "### File Handiling in  Python\n",
    "- File:-  Document Containing Information resides on the permanent storage\n",
    "- Different types of files :- txt.doc.pdf.csvandetc...\n",
    "- Input -- keyboard\n",
    "- Output -- File\n",
    "\n",
    "### Modes of the File I/O\n",
    "- 'w' -- This mode is used to file writing\n",
    "      \n",
    "      -- If the file is not present first it creates the file and write so me data to it\n",
    "      -- if the file is alrady present then it will rewrite the previous content\n",
    "      "
   ]
  },
  {
   "cell_type": "code",
   "execution_count": 2,
   "metadata": {},
   "outputs": [
    {
     "name": "stdout",
     "output_type": "stream",
     "text": [
      "file is created and data has written\n"
     ]
    }
   ],
   "source": [
    "# function to create a file and write to the file\n",
    "def createfile(filename):\n",
    "    f = open(filename,'w')\n",
    "    for i in range(10):\n",
    "        f.write('this is %d line' % i)\n",
    "    print(\"file is created and data has written\")\n",
    "    return\n",
    "createfile('file.txt')"
   ]
  },
  {
   "cell_type": "code",
   "execution_count": 3,
   "metadata": {},
   "outputs": [
    {
     "name": "stdout",
     "output_type": "stream",
     "text": [
      " Volume in drive C has no label.\n",
      " Volume Serial Number is 44CF-BE2B\n",
      "\n",
      " Directory of C:\\Users\\31\n",
      "\n",
      "11-07-2019  09:48    <DIR>          .\n",
      "11-07-2019  09:48    <DIR>          ..\n",
      "05-05-2019  15:32    <DIR>          .anaconda\n",
      "08-03-2019  12:36               145 .appletviewer\n",
      "29-06-2019  13:30    <DIR>          .conda\n",
      "29-06-2019  13:27                43 .condarc\n",
      "29-06-2019  13:27    <DIR>          .idlerc\n",
      "11-07-2019  09:32    <DIR>          .ipynb_checkpoints\n",
      "25-04-2019  16:20    <DIR>          .ipython\n",
      "05-05-2019  15:41    <DIR>          .jupyter\n",
      "25-04-2019  16:29    <DIR>          .matplotlib\n",
      "22-11-2018  13:14    <DIR>          .oracle_jre_usage\n",
      "21-06-2019  17:46             1,679 anaconda\n",
      "22-04-2019  15:09    <DIR>          Anaconda3\n",
      "22-11-2018  11:35    <DIR>          Contacts\n",
      "08-07-2019  16:48            12,742 Dasari maneesh.ipynb\n",
      "10-07-2019  16:28            20,650 dasari1.ipynb\n",
      "08-07-2019  12:30    <DIR>          Desktop\n",
      "10-07-2019  17:23    <DIR>          Documents\n",
      "08-07-2019  10:00    <DIR>          Downloads\n",
      "22-11-2018  11:35    <DIR>          Favorites\n",
      "11-07-2019  09:47               140 file.txt\n",
      "22-11-2018  11:35    <DIR>          Links\n",
      "08-07-2019  16:17             2,396 maneesh dasari 22.ipynb\n",
      "09-07-2019  16:07            11,879 ManeeshDsari555.ipynb\n",
      "22-11-2018  11:35    <DIR>          Music\n",
      "21-06-2019  17:42             1,679 OPERATOR.ipynb\n",
      "22-11-2018  11:35    <DIR>          Pictures\n",
      "22-11-2018  11:35    <DIR>          Saved Games\n",
      "19-12-2018  10:51    <DIR>          Searches\n",
      "25-04-2019  16:28             2,938 Untitled.ipynb\n",
      "05-05-2019  19:10               680 Untitled1.ipynb\n",
      "21-06-2019  17:04             1,076 Untitled2.ipynb\n",
      "08-07-2019  16:09            12,742 Untitled3.ipynb\n",
      "08-07-2019  16:48            12,742 Untitled3-Copy1.ipynb\n",
      "08-07-2019  11:23             1,341 Untitled4.ipynb\n",
      "08-07-2019  16:14             2,396 Untitled5.ipynb\n",
      "09-07-2019  16:01            11,879 Untitled6.ipynb\n",
      "10-07-2019  10:54             9,216 Untitled7.ipynb\n",
      "11-07-2019  09:48             2,046 Untitled8.ipynb\n",
      "22-11-2018  11:35    <DIR>          Videos\n",
      "              19 File(s)        108,409 bytes\n",
      "              22 Dir(s)  75,529,175,040 bytes free\n"
     ]
    }
   ],
   "source": [
    "ls"
   ]
  },
  {
   "cell_type": "code",
   "execution_count": 7,
   "metadata": {},
   "outputs": [
    {
     "name": "stdout",
     "output_type": "stream",
     "text": [
      "file is created and data has written\n"
     ]
    }
   ],
   "source": [
    "def createfile(filename):\n",
    "    f = open(filename,'w')\n",
    "    f.write('testing...\\n')\n",
    "    print(\"file is created and data has written\")\n",
    "    return\n",
    "createfile('file1.txt')"
   ]
  },
  {
   "cell_type": "code",
   "execution_count": 8,
   "metadata": {},
   "outputs": [
    {
     "name": "stdout",
     "output_type": "stream",
     "text": [
      "File created and sucessfully data written\n"
     ]
    }
   ],
   "source": [
    "def appendData(filename):\n",
    "    f = open(filename,'a')\n",
    "    for i in range(10):\n",
    "        f.write(\"This is %d Line\\n\"%i)\n",
    "        print(\"File created and sucessfully data written\")\n",
    "        return\n",
    "appendData('file2.txt')"
   ]
  },
  {
   "cell_type": "code",
   "execution_count": 11,
   "metadata": {},
   "outputs": [
    {
     "name": "stdout",
     "output_type": "stream",
     "text": [
      "File created and sucessfully data written\n"
     ]
    }
   ],
   "source": [
    "def appendData(filename):\n",
    "    f = open(filename,'a')\n",
    "    f.write(\"New line 1\\n\")\n",
    "    f.write(\"New line 2\\n\")\n",
    "    print(\"File created and sucessfully data written\")\n",
    "    return\n",
    "appendData('file2.txt')"
   ]
  },
  {
   "cell_type": "code",
   "execution_count": null,
   "metadata": {},
   "outputs": [],
   "source": [
    "# Function to read the file\n",
    "def readfile2(filename,mode):\n",
    "    with open (filename,mode) as f:\n",
    "        if f.mode == 'r':\n",
    "            data = f.read()\n",
    "        elif f.mode == 'a':\n",
    "            f.write('data to the file')\n",
    "            print('the data sucessfully written')\n",
    "    f.close()\n",
    "    return\n",
    "filename = input('Enter the file name')\n",
    "mode = input('Enter the mode of the file')\n",
    "readfile2(filename,mode)"
   ]
  },
  {
   "cell_type": "code",
   "execution_count": null,
   "metadata": {},
   "outputs": [],
   "source": [
    "# Data analysis\n",
    "# Word count program\n",
    "def wordcount(filename,word):\n",
    "    with open(filename,'r')\n",
    "        if f.mode == \n",
    "    return\n",
    "filename = input('enter the file name : ')"
   ]
  },
  {
   "cell_type": "code",
   "execution_count": null,
   "metadata": {},
   "outputs": [],
   "source": [
    "def countoflines(filename):\n",
    "   with open(filename):\n",
    "       if f.mode=='r':\n",
    "           x=f.read()\n",
    "           li=x.split(\"\\n\")\n",
    "   return len(li)\n",
    "filename=input('enter the filename :')"
   ]
  },
  {
   "cell_type": "code",
   "execution_count": null,
   "metadata": {},
   "outputs": [],
   "source": [
    "def casecount(filename):\n",
    "   cntupper=0\n",
    "   cnlower=0\n",
    "   with open(filename, 'r') as f:\n",
    "       if f.mode=='r':\n",
    "           c=f.read()\n",
    "           li=list(x)\n",
    "   for i in li:\n",
    "       if i.isupper():\n",
    "           cntupper+=1\n",
    "       elif i.islower():\n",
    "           cntlower+=1\n",
    "   output= 'upper case={0}, lower case={1}'.format(cntupper)\n",
    "   return output\n",
    "filename=input('enter the filename : ')\n",
    "casecount(filename)\n"
   ]
  },
  {
   "cell_type": "code",
   "execution_count": null,
   "metadata": {},
   "outputs": [],
   "source": []
  }
 ],
 "metadata": {
  "kernelspec": {
   "display_name": "Python 3",
   "language": "python",
   "name": "python3"
  }
 },
 "nbformat": 4,
 "nbformat_minor": 2
}
